{
 "cells": [
  {
   "cell_type": "markdown",
   "metadata": {},
   "source": [
    "# Test for DeepFace and Redis"
   ]
  },
  {
   "cell_type": "code",
   "execution_count": null,
   "metadata": {},
   "outputs": [],
   "source": [
    "import os\n",
    "import pandas as pd\n",
    "import numpy as np\n",
    "from tqdm import tqdm\n",
    "import matplotlib.pyplot as plt\n",
    "from deepface import DeepFace\n",
    "from deepface.commons import functions\n",
    "import redis"
   ]
  },
  {
   "cell_type": "markdown",
   "metadata": {},
   "source": [
    "### building model"
   ]
  },
  {
   "cell_type": "code",
   "execution_count": null,
   "metadata": {},
   "outputs": [],
   "source": [
    "model = DeepFace.build_model(\"Facenet\")\n",
    "input_shape = (160, 160)\n",
    "target_shape = 128"
   ]
  },
  {
   "cell_type": "markdown",
   "metadata": {},
   "source": [
    "### setting up target"
   ]
  },
  {
   "cell_type": "code",
   "execution_count": null,
   "metadata": {},
   "outputs": [],
   "source": [
    "target_img_path = \"target.png\"\n",
    "target_img = functions.preprocess_face(target_img_path, target_size=(160, 160))\n",
    "\n",
    "plt.imshow(target_img[0][:,:,::-1])\n",
    "plt.axis('off')\n",
    "plt.show()\n",
    "\n",
    "target_embedding = model.predict(target_img)[0].tolist()"
   ]
  },
  {
   "cell_type": "markdown",
   "metadata": {},
   "source": [
    "### setting up redis connection"
   ]
  },
  {
   "cell_type": "code",
   "execution_count": null,
   "metadata": {},
   "outputs": [],
   "source": [
    "redis = redis.StrictRedis(host='localhost', port=6379, db=0)\n",
    "for key in redis.scan_iter(\"embedding:*\"):\n",
    "    redis.delete(key)\n",
    "for key in redis.scan_iter(\"photo:*\"):\n",
    "    redis.delete(key)"
   ]
  },
  {
   "cell_type": "markdown",
   "metadata": {},
   "source": [
    "### create local db"
   ]
  },
  {
   "cell_type": "code",
   "execution_count": null,
   "metadata": {},
   "outputs": [],
   "source": [
    "# Ref: https://github.com/serengil/deepface/tree/master/tests/dataset\n",
    "local_db = {\n",
    "    'angelina': 'deepface/tests/dataset/img2.jpg',\n",
    "    'jennifer': 'deepface/tests/dataset/img56.jpg',\n",
    "    'scarlett': 'deepface/tests/dataset/img49.jpg',\n",
    "    'katy': 'deepface/tests/dataset/img42.jpg',\n",
    "    'marissa': 'deepface/tests/dataset/img23.jpg'\n",
    "}\n",
    "\n",
    "identities = list(local_db.keys())\n",
    "\n",
    "for i in tqdm(range(0, len(identities))):\n",
    "    name = identities[i]\n",
    "    img_path = local_db[name]\n",
    "    img = functions.preprocess_face(img_path, target_size=(160, 160))\n",
    "    embedding = model.predict(img)[0].tolist() \n",
    "    redis.rpush(\"embedding:\"+name, *embedding)\n",
    "    redis.set(\"photo:\"+name, img_path)"
   ]
  },
  {
   "cell_type": "markdown",
   "metadata": {},
   "source": [
    "### custom distance function"
   ]
  },
  {
   "cell_type": "code",
   "execution_count": null,
   "metadata": {},
   "outputs": [],
   "source": [
    "def findEuclideanDistance(source_representation, test_representation):\n",
    "    euclidean_distance = source_representation - test_representation\n",
    "    euclidean_distance = np.sum(np.multiply(euclidean_distance, euclidean_distance))\n",
    "    euclidean_distance = np.sqrt(euclidean_distance)\n",
    "    return euclidean_distance"
   ]
  },
  {
   "cell_type": "markdown",
   "metadata": {},
   "source": [
    "### client-side face verification"
   ]
  },
  {
   "cell_type": "code",
   "execution_count": null,
   "metadata": {},
   "outputs": [],
   "source": [
    "def verify_face(key):\n",
    "    embedding = redis.lrange('embedding:'+key, 0, -1)\n",
    "    distance = findEuclideanDistance(target_embedding, np.array(embedding).astype('float'))\n",
    "    print(\"Distance is \", distance)\n",
    "    img_name = redis.get('photo:'+key).decode()\n",
    "    source_img = functions.preprocess_face(img_name)\n",
    "        \n",
    "    fig = plt.figure(figsize = (7, 7))\n",
    "    ax1 = fig.add_subplot(1,2,1)\n",
    "    plt.imshow(target_img[0][:, :, ::-1])\n",
    "    plt.axis('off')\n",
    "    ax2 = fig.add_subplot(1,2,2)\n",
    "    plt.imshow(source_img[0][:, :, ::-1])\n",
    "    plt.axis('off')\n",
    "    plt.show()\n",
    "        \n",
    "    if distance <= 10:\n",
    "        print(\"this is \"+key)\n",
    "    else:\n",
    "        print(\"this IS NOT \"+key)\n",
    "\n",
    "people = ['angelina', 'jennifer', 'scarlett', 'katy', 'marissa']\n",
    "for p in people:\n",
    "    verify_face(p)"
   ]
  },
  {
   "cell_type": "markdown",
   "metadata": {},
   "source": [
    "### server-side face verification"
   ]
  },
  {
   "cell_type": "code",
   "execution_count": null,
   "metadata": {},
   "outputs": [],
   "source": [
    "verify_script = '''\n",
    "    local source = KEYS[1]\n",
    "    local source_embedding = redis.call(\"lrange\", \"embedding:\"..source, 0, -1)\n",
    "\n",
    "    local distance = 0\n",
    "    for i = 1, #source_embedding do\n",
    "        distance = distance + (source_embedding[i] - KEYS[1+i])^2\n",
    "    end\n",
    "\n",
    "    distance = math.sqrt(distance)\n",
    "\n",
    "    return {\"euclidean_distance\", tostring(distance)}\n",
    "    '''\n",
    "\n",
    "command = redis.register_script(verify_script)\n",
    "for p in people:\n",
    "    print(float(command(keys=[p, *target_embedding])[1].decode()) <= 10)"
   ]
  }
 ],
 "metadata": {
  "interpreter": {
   "hash": "48cf2930e6d3580d2f9e9b9c9063ba1f61a59bbd7ace96221f30eb7c9a87623b"
  },
  "kernelspec": {
   "display_name": "Python 3.9.7 ('base')",
   "language": "python",
   "name": "python3"
  },
  "language_info": {
   "name": "python",
   "version": "3.9.7"
  },
  "orig_nbformat": 4
 },
 "nbformat": 4,
 "nbformat_minor": 2
}
